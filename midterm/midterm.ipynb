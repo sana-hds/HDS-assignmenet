{
  "cells": [
    {
      "cell_type": "markdown",
      "metadata": {
        "id": "view-in-github",
        "colab_type": "text"
      },
      "source": [
        "<a href=\"https://colab.research.google.com/github/sana-hds/HDS-assignmenet/blob/main/midterm/midterm.ipynb\" target=\"_parent\"><img src=\"https://colab.research.google.com/assets/colab-badge.svg\" alt=\"Open In Colab\"/></a>"
      ]
    },
    {
      "cell_type": "markdown",
      "metadata": {
        "id": "I4ZrFSHrwE62"
      },
      "source": [
        "### Mid-term for HDS5210\n",
        "\n",
        "Your supervisor is concerned about 4-year survival risks for COPD. She has asked for you to do some analysis using a new metric, BODE. BODE is an improvement on a previous metric and promises to provide insight on survival risks.\n",
        "\n",
        "BODE is defined here. https://www.mdcalc.com/calc/3916/bode-index-copd-survival#evidence\n",
        "\n",
        "Your assignment is to create a BODE calculation, use it to calculate BODE scores and BODE survival rates for a group of patients. Then we want to evaluate the average BODE scores and BODE survival rates for each area hospital.\n",
        "\n",
        "Your patient input file will have the following columns:\n",
        "NAME,SSN,LANGUAGE,JOB,HEIGHT_M,WEIGHT_KG,fev_pct,dyspnea_description,distance_in_meters,hospital\n",
        "\n",
        "BODE calculations require a BMI value, so you will have to create a function for it.\n",
        "\n",
        "Your output should be in the form of two CSV files, patient_output.csv and hospital_output.csv.\n",
        "\n",
        "Patient_output will have the following columns:\n",
        "NAME,BODE_SCORE,BODE_RISK,HOSPITAL\n",
        "\n",
        "Hospital output will have the following columns:\n",
        "HOSPITAL_NAME, COPD_COUNT, PCT_OF_COPD_CASES_OVER_BEDS, AVG_SCORE, AVG_RISK\n",
        "\n",
        "Each function you create should have documentation and a suitable number of test cases. If the input data could be wrong, make sure to raise a Value Error.\n",
        "\n",
        "For this assignment, use the doctest, json, and csv libraries. Pandas is not allowed for this assignment."
      ]
    },
    {
      "cell_type": "code",
      "execution_count": 91,
      "metadata": {
        "id": "NnfBTsKFwE64"
      },
      "outputs": [],
      "source": [
        "import doctest\n",
        "import json\n",
        "import csv"
      ]
    },
    {
      "cell_type": "markdown",
      "metadata": {
        "id": "FYxctiscwE64"
      },
      "source": [
        "### Step 1: Calculate BMI"
      ]
    },
    {
      "cell_type": "code",
      "execution_count": 92,
      "metadata": {
        "id": "uI1odcjSwE64"
      },
      "outputs": [],
      "source": [
        "def calculate_bmi(weight_kg, height_m):\n",
        "    \"\"\"\n",
        "    Calculate BMI (Body Mass Index).\n",
        "    :param weight_kg: Weight in kilograms.\n",
        "    :param height_m: Height in meters.\n",
        "    :return: BMI value.\n",
        "    >>> calculate_bmi(70, 1.75)\n",
        "    22.86\n",
        "    >>> calculate_bmi(85, 1.8)\n",
        "    26.23\n",
        "    >>> calculate_bmi(0, 1.8)\n",
        "    Traceback (most recent call last):\n",
        "        ...\n",
        "    ValueError: Weight and height must be positive values.\n",
        "    \"\"\"\n",
        "    if weight_kg <= 0 or height_m <= 0:\n",
        "        raise ValueError(\"Weight and height must be positive values.\")\n",
        "    return round(weight_kg / (height_m ** 2), 2)\n",
        "if __name__ == \"__main__\":\n",
        "    doctest.testmod()"
      ]
    },
    {
      "cell_type": "markdown",
      "metadata": {
        "id": "r0T9jrw2wE64"
      },
      "source": [
        "### Step 2: Calculate BODE Score"
      ]
    },
    {
      "cell_type": "code",
      "execution_count": 93,
      "metadata": {
        "id": "ofsuhlkqwE65"
      },
      "outputs": [],
      "source": [
        "def calculate_bode(bmi, fev_pct, dyspnea_description, distance_in_meters):\n",
        "    \"\"\"\n",
        "    Calculate BODE score based on BMI, FEV1 (% of predicted), dyspnea scale, and 6-minute walk distance.\n",
        "    :param bmi: BMI value.\n",
        "    :param fev_pct: FEV1 % of predicted.\n",
        "    :param dyspnea_description: Dyspnea description.\n",
        "    :param distance_in_meters: 6-minute walk distance in meters.\n",
        "    :return: BODE score.\n",
        "    >>> calculate_bode(22.86, 50, \"SLOWER THAN PEERS\", 300)\n",
        "    3\n",
        "    >>> calculate_bode(26.23, 80, \"WHEN HURRYING\", 400)\n",
        "    0\n",
        "    >>> calculate_bode(20.0, 30, \"BREATHLESS WHEN DRESSING\", 100)\n",
        "    10\n",
        "    \"\"\"\n",
        "    bode_score = 0\n",
        "    # BMI\n",
        "    if bmi <= 21:\n",
        "        bode_score += 1\n",
        "    # FEV1 %\n",
        "    if fev_pct < 35:\n",
        "        bode_score += 3\n",
        "    elif fev_pct < 50:\n",
        "        bode_score += 2\n",
        "    elif fev_pct < 65:\n",
        "        bode_score += 1\n",
        "    # Dyspnea scale\n",
        "    dyspnea_map = {\n",
        "        \"ONLY STRENUOUS EXERCISE\": 0,\n",
        "        \"WHEN HURRYING\": 0,\n",
        "        \"WALKING UPHILL\": 0,\n",
        "        \"SLOWER THAN PEERS\": 1,\n",
        "        \"STOPS WHEN WALKING AT PACE\": 1,\n",
        "        \"STOPS AFTER A FEW MINUTES\": 2,\n",
        "        \"STOPS AFTER 100 YARDS\": 2,\n",
        "        \"UNABLE TO LEAVE HOME\": 3,\n",
        "        \"BREATHLESS WHEN DRESSING\": 3\n",
        "    }\n",
        "    bode_score += dyspnea_map.get(dyspnea_description.upper(), 0)\n",
        "    # 6-minute walk distance\n",
        "    if distance_in_meters < 149:\n",
        "        bode_score += 3\n",
        "    elif distance_in_meters < 250:\n",
        "        bode_score += 2\n",
        "    elif distance_in_meters < 350:\n",
        "        bode_score += 1\n",
        "    return bode_score\n",
        "if __name__ == \"__main__\":\n",
        "    doctest.testmod()"
      ]
    },
    {
      "cell_type": "markdown",
      "metadata": {
        "id": "EGg12n9WwE65"
      },
      "source": [
        "### Step 3: Calculate BODE Risk"
      ]
    },
    {
      "cell_type": "code",
      "execution_count": 94,
      "metadata": {
        "id": "naCCVwfVwE65"
      },
      "outputs": [],
      "source": [
        "def calculate_bode_risk(bode_score):\n",
        "    \"\"\"\n",
        "    Calculate BODE risk based on BODE score.\n",
        "    :param bode_score: BODE score.\n",
        "    :return: BODE risk category.\n",
        "    >>> calculate_bode_risk(2)\n",
        "    '80% (Low)'\n",
        "    >>> calculate_bode_risk(4)\n",
        "    '67% (Moderate)'\n",
        "    >>> calculate_bode_risk(6)\n",
        "    '57% (Moderate)'\n",
        "    >>> calculate_bode_risk(8)\n",
        "    '18% (High)'\n",
        "    \"\"\"\n",
        "    if 0 <= bode_score <= 2:\n",
        "        return \"80% (Low)\"\n",
        "    elif 3 <= bode_score <= 4:\n",
        "        return \"67% (Moderate)\"\n",
        "    elif 5 <= bode_score <= 6:\n",
        "        return \"57% (Moderate)\"\n",
        "    elif 7 <= bode_score <= 10:\n",
        "        return \"18% (High)\"\n",
        "    else:\n",
        "        return \"Invalid BODE score\"\n",
        "if __name__ == \"__main__\":\n",
        "    doctest.testmod()"
      ]
    },
    {
      "cell_type": "markdown",
      "metadata": {
        "id": "_blrDFxcwE65"
      },
      "source": [
        "### Step 4: Load Hospital Data"
      ]
    },
    {
      "cell_type": "code",
      "execution_count": 95,
      "metadata": {
        "id": "EKf8TPN4wE65"
      },
      "outputs": [],
      "source": [
        "def load_hospital_data(hospital_json):\n",
        "    \"\"\"\n",
        "    Load hospital data from a JSON file.\n",
        "    :param hospital_json: JSON file path for hospital data.\n",
        "    :return: Dictionary containing hospital data.\n",
        "    >>> load_hospital_data('hospitals.json')\n",
        "    [{'system': 'BJC', 'hospitals': [{'name': 'BJC', 'beds': 2000}, {'name': 'BJC WEST COUNTY', 'beds': 1000}, {'name': 'MISSOURI BAPTIST', 'beds': 800}]}, {'system': 'SSM', 'hospitals': [{'name': 'SAINT LOUIS UNIVERSITY', 'beds': 1000}, {'name': \"ST.MARY'S\", 'beds': 500}]}, {'system': \"ST.LUKE'S\", 'hospitals': [{'name': \"ST.LUKE'S\", 'beds': 800}]}]\n",
        "    \"\"\"\n",
        "    with open(hospital_json, 'r') as file:\n",
        "        hospital_data = json.load(file)\n",
        "    return hospital_data\n",
        "if __name__ == \"__main__\":\n",
        "    doctest.testmod()"
      ]
    },
    {
      "cell_type": "markdown",
      "metadata": {
        "id": "sK8bLPjCwE66"
      },
      "source": [
        "### Step 5: Main business logic\n",
        "\n",
        "Call BODE Score, BODE Risk functions for each patient.\n",
        "\n",
        "For each hospital, calculate Avg BODE score and Avg BODE risk and count the number of cases for each hospital."
      ]
    },
    {
      "cell_type": "code",
      "execution_count": 96,
      "metadata": {
        "id": "HFV2XrUBwE66"
      },
      "outputs": [],
      "source": [
        "patient_csv = \"patient.csv\"\n",
        "hospital_json = \"hospitals.json\"\n",
        "patient_output_file = \"patient_output.csv\"\n",
        "hospital_output_file = \"hospital_output.csv\"\n",
        "def process_patient_data(patient_csv, hospital_json, patient_output_file, hospital_output_file):\n",
        "    \"\"\"\n",
        "    Process patient data and generate required outputs.\n",
        "    :param patient_csv: Input file path for patient data.\n",
        "    :param hospital_json: JSON file path for hospital data.\n",
        "    :param patient_output_file: Output file path for patient data.\n",
        "    :param hospital_output_file: Output file path for hospital data.\n",
        "    \"\"\"\n",
        "    hospital_data = load_hospital_data(hospital_json)\n",
        "    hospitals = {hospital['name']: {'copd_count': 0, 'total_score': 0, 'total_survival': 0, 'beds': hospital['beds']}\n",
        "                 for system in hospital_data for hospital in system['hospitals']}\n",
        "    patient_results = []\n",
        "    with open(patient_csv, 'r') as infile:\n",
        "        reader = csv.DictReader(infile)\n",
        "        for row in reader:\n",
        "            name = row['NAME']\n",
        "            weight_kg = float(row['WEIGHT_KG'])\n",
        "            height_m = float(row['HEIGHT_M'])\n",
        "            fev_pct = float(row['fev_pct'])\n",
        "            dyspnea_description = row['dyspnea_description']\n",
        "            distance_in_meters = float(row['distance_in_meters'])\n",
        "            hospital = row['hospital']\n",
        "\n",
        "            bmi = calculate_bmi(weight_kg, height_m)\n",
        "            bode_score = calculate_bode(bmi, fev_pct, dyspnea_description, distance_in_meters)\n",
        "            bode_risk = calculate_bode_risk(bode_score)\n",
        "\n",
        "            patient_results.append([name, bode_score, bode_risk, hospital])\n",
        "\n",
        "            if hospital in hospitals:\n",
        "                hospitals[hospital]['copd_count'] += 1\n",
        "                hospitals[hospital]['total_score'] += bode_score\n",
        "                if bode_risk.startswith(\"80\"):\n",
        "                    hospitals[hospital]['total_survival'] += 80\n",
        "                elif bode_risk.startswith(\"67\"):\n",
        "                    hospitals[hospital]['total_survival'] += 67\n",
        "                elif bode_risk.startswith(\"57\"):\n",
        "                    hospitals[hospital]['total_survival'] += 57\n",
        "                elif bode_risk.startswith(\"18\"):\n",
        "                    hospitals[hospital]['total_survival'] += 18\n",
        "\n",
        "    hospital_output_list = []\n",
        "    for hospital, data in hospitals.items():\n",
        "        copd_count = data['copd_count']\n",
        "        if copd_count > 0:\n",
        "            avg_score = data['total_score'] / copd_count\n",
        "            avg_survival = data['total_survival'] / copd_count\n",
        "            pct_of_copd_cases_over_beds = (copd_count / data['beds']) * 100\n",
        "        else:\n",
        "            avg_score = 0\n",
        "            avg_survival = 0\n",
        "            pct_of_copd_cases_over_beds = 0\n",
        "        hospital_output_list.append([hospital, copd_count, pct_of_copd_cases_over_beds, avg_score, avg_survival])\n",
        "\n",
        "    # Write Patient_output.csv\n",
        "    with open(patient_output_file, 'w', newline='') as csvfile:\n",
        "        writer = csv.writer(csvfile)\n",
        "        writer.writerow(['NAME', 'BODE_SCORE', 'BODE_RISK', 'HOSPITAL'])\n",
        "        writer.writerows(patient_results)\n",
        "\n",
        "    # Write Hospital_output.csv\n",
        "    with open(hospital_output_file, 'w', newline='') as csvfile:\n",
        "        writer = csv.writer(csvfile)\n",
        "        writer.writerow(['HOSPITAL_NAME', 'COPD_COUNT', 'PCT_OF_COPD_CASES_OVER_BEDS', 'AVG_SCORE', 'AVG_SURVIVAL'])\n",
        "        writer.writerows(hospital_output_list)\n",
        "\n",
        "# Call the function to process patient data\n",
        "if __name__ == \"__main__\":\n",
        "    process_patient_data(patient_csv, hospital_json, patient_output_file, hospital_output_file)\n",
        "\n",
        "if __name__ == \"__main__\":\n",
        "    doctest.testmod()"
      ]
    }
  ],
  "metadata": {
    "language_info": {
      "name": "python"
    },
    "colab": {
      "provenance": [],
      "include_colab_link": true
    },
    "kernelspec": {
      "name": "python3",
      "display_name": "Python 3"
    }
  },
  "nbformat": 4,
  "nbformat_minor": 0
}