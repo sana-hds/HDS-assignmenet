{
  "cells": [
    {
      "cell_type": "code",
      "execution_count": 2,
      "metadata": {
        "id": "Q8sk00Lf_Qpk",
        "outputId": "0b0550d1-8eac-4456-c624-40cd0d6558f8",
        "colab": {
          "base_uri": "https://localhost:8080/"
        }
      },
      "outputs": [
        {
          "output_type": "stream",
          "name": "stdout",
          "text": [
            "2\n",
            "4\n",
            "6\n",
            "8\n",
            "10\n",
            "12\n",
            "14\n",
            "16\n",
            "18\n",
            "20\n"
          ]
        }
      ],
      "source": [
        "\n",
        "## For every even number between 1 and 20 (including 20), print that number\n",
        "for num in range(1, 21):\n",
        "    if num % 2 == 0:\n",
        "        print(num)\n",
        "\n"
      ]
    },
    {
      "cell_type": "code",
      "execution_count": 3,
      "metadata": {
        "id": "DRCbkf_n_Qpq",
        "outputId": "26248ebc-6262-49a4-9e9b-7e933f0ed467",
        "colab": {
          "base_uri": "https://localhost:8080/"
        }
      },
      "outputs": [
        {
          "output_type": "stream",
          "name": "stdout",
          "text": [
            "3\n",
            "6\n",
            "9\n",
            "12\n",
            "15\n",
            "18\n",
            "21\n",
            "24\n",
            "27\n",
            "30\n",
            "33\n",
            "36\n",
            "39\n"
          ]
        }
      ],
      "source": [
        "## Print all of the multiples of 3 less than 40\n",
        "for num in range(3, 40):\n",
        "    if num % 3 == 0:\n",
        "        print(num)\n",
        "\n"
      ]
    },
    {
      "cell_type": "code",
      "execution_count": 4,
      "metadata": {
        "id": "isp-l3jf_Qpr",
        "outputId": "1a091ecd-d340-4064-be7f-492218dc1632",
        "colab": {
          "base_uri": "https://localhost:8080/"
        }
      },
      "outputs": [
        {
          "output_type": "stream",
          "name": "stdout",
          "text": [
            "Prime numbers between 1 and 100:\n",
            "[2, 3, 5, 7, 11, 13, 17, 19, 23, 29, 31, 37, 41, 43, 47, 53, 59, 61, 67, 71, 73, 79, 83, 89, 97]\n"
          ]
        }
      ],
      "source": [
        "prime_numbers = []\n",
        "\n",
        "for num in range(2, 101):  # start from 2, since 1 is not a prime number\n",
        "    is_prime = True\n",
        "    for divisor in range(2, int(num ** 0.5) + 1):\n",
        "        if num % divisor == 0:\n",
        "            is_prime = False\n",
        "            break\n",
        "    if is_prime:\n",
        "        prime_numbers.append(num)\n",
        "\n",
        "print(\"Prime numbers between 1 and 100:\")\n",
        "print(prime_numbers)"
      ]
    }
  ],
  "metadata": {
    "language_info": {
      "name": "python"
    },
    "colab": {
      "provenance": []
    },
    "kernelspec": {
      "name": "python3",
      "display_name": "Python 3"
    }
  },
  "nbformat": 4,
  "nbformat_minor": 0
}