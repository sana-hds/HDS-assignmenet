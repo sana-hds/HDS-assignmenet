{
  "cells": [
    {
      "cell_type": "markdown",
      "metadata": {
        "id": "view-in-github",
        "colab_type": "text"
      },
      "source": [
        "<a href=\"https://colab.research.google.com/github/sana-hds/HDS-assignmenet/blob/main/week06/week07_assignment.ipynb\" target=\"_parent\"><img src=\"https://colab.research.google.com/assets/colab-badge.svg\" alt=\"Open In Colab\"/></a>"
      ]
    },
    {
      "cell_type": "markdown",
      "metadata": {
        "id": "f4ECeZSW-qoZ"
      },
      "source": [
        "# Week 7 Assignment\n",
        "\n",
        "We've been working with different types of data structures in Python (dictionary, list, etc), how those are represented in JSON documents, and how to write code to access specific data elements. In this week's assignment, you will need to create your own JSON document to store information about yourself and the grades you've received from week 1 to week 4 and the week 6 quiz.  That is, everything you should have received a grade for.  Then you'll need to show me you know how to navigate the JSON in that file.\n",
        "\n",
        "Different from what we've done in the past, you do not have to write any functions or include any docstrings.  Just create some JSON and write some code.\n",
        "\n",
        "---"
      ]
    },
    {
      "cell_type": "markdown",
      "metadata": {
        "id": "lovkKOO3-qof"
      },
      "source": [
        "## 7.1 Create a JSON file\n",
        "\n",
        "Create a JSON file that contains your name, email, year you were born, all of the grades you've received back so far, and a comment about what you thought was most challenging on each of those assignments.  This can be any structure you choose, but make sure it uses a dictionary and a list, and has at least two levels of hierarchy.  That is, it can't just be one big long list."
      ]
    },
    {
      "cell_type": "markdown",
      "metadata": {
        "id": "zd6-NxmK-qoh"
      },
      "source": [
        "First, explain how your data structure is going to look..."
      ]
    },
    {
      "cell_type": "markdown",
      "metadata": {
        "id": "66jtz1hQ-qoi"
      },
      "source": [
        "Explanation of Data Structure\n",
        "The JSON file will be structured as follows:\n",
        "\n",
        "Root Level: A dictionary containing personal information and a list of grades.\n",
        "Personal Information: A dictionary with keys for name, email, and year of birth.\n",
        "Grades: A list of dictionaries, each representing an assignment or quiz with keys for the week, grade, and a comment about the most challenging part.\n",
        "\n",
        "JSON Structure\n",
        "JSON\n",
        "<pre>\n",
        "{\n",
        "    \"name\": \"Sana\",\n",
        "    \"email\": \"sana.1@slu.edu\",\n",
        "    \"year_of_birth\": 2000,\n",
        "    \"grades\": [\n",
        "        {\n",
        "            \"week\": 1,\n",
        "            \"grade\": 10,\n",
        "            \"comment\": \"Understanding the basics of Python syntax was challenging.\"\n",
        "        },\n",
        "        {\n",
        "            \"week\": 2,\n",
        "            \"grade\": 8,\n",
        "            \"comment\": \"Understanding various datatypes was needed attention.\"\n",
        "        },\n",
        "        {\n",
        "            \"week\": 3,\n",
        "            \"grade\": 6,\n",
        "            \"comment\": \"Working with loops and conditionals took some time to master.\"\n",
        "        },\n",
        "        {\n",
        "            \"week\": 4,\n",
        "            \"grade\": 11,\n",
        "            \"comment\": \"Learning to manipulate lists and dictionaries was tricky.\"\n",
        "        }\n",
        "        \n",
        "    ]\n",
        "}\n",
        "</pre>\n",
        "\n",
        "\n"
      ]
    },
    {
      "cell_type": "markdown",
      "metadata": {
        "id": "gJsSeJGe-qoi"
      },
      "source": [
        "Then put the actual JSON you've created inside the multiline string below..."
      ]
    },
    {
      "cell_type": "code",
      "execution_count": 17,
      "metadata": {
        "id": "CW1uJk68-qoj"
      },
      "outputs": [],
      "source": [
        "hds5210 = \"\"\"\n",
        "{\n",
        "    \"name\": \"Sana\",\n",
        "    \"email\": \"sana.1@slu.edu\",\n",
        "    \"year_of_birth\": 2000,\n",
        "    \"grades\": [\n",
        "        {\n",
        "            \"week\": 1,\n",
        "            \"grade\": 10,\n",
        "            \"comment\": \"Understanding the basics of Python syntax was challenging.\"\n",
        "        },\n",
        "        {\n",
        "            \"week\": 2,\n",
        "            \"grade\": 8,\n",
        "            \"comment\": \"Understanding various datatypes was needed attention.\"\n",
        "        },\n",
        "        {\n",
        "            \"week\": 3,\n",
        "            \"grade\": 6,\n",
        "            \"comment\": \"Working with loops and conditionals took some time to master.\"\n",
        "        },\n",
        "        {\n",
        "            \"week\": 4,\n",
        "            \"grade\": 11,\n",
        "            \"comment\": \"Learning to manipulate lists and dictionaries was tricky.\"\n",
        "        }\n",
        "\n",
        "    ]\n",
        "}\n",
        "\"\"\""
      ]
    },
    {
      "cell_type": "markdown",
      "metadata": {
        "id": "06EpvdJ_-qom"
      },
      "source": [
        "## 7.2 Do something with your JSON\n",
        "\n",
        "Now use Python code to do something with the Json above.  Turn it into English text, but make sure that you use at least one loop to access some dict or list content of your JSON.  Below, I've provided some basic code to read in the string above as JSON and return a Python object.  Your job is to work with that data structure and print out the important information like your name, email, and how you did on each assignment."
      ]
    },
    {
      "cell_type": "code",
      "execution_count": 18,
      "metadata": {
        "id": "zVcw_-2B-qoo",
        "outputId": "d7acbefa-c70d-4a9a-cd4d-c42131e3c744",
        "colab": {
          "base_uri": "https://localhost:8080/"
        }
      },
      "outputs": [
        {
          "output_type": "stream",
          "name": "stdout",
          "text": [
            "My name is Sana, and you can reach me at sana.1@slu.edu. I was born in 2000. Here are my grades and comments for the assignments so far:\n",
            "Week 1: I received a grade of 10. Understanding the basics of Python syntax was challenging.\n",
            "Week 2: I received a grade of 8. Understanding various datatypes was needed attention.\n",
            "Week 3: I received a grade of 6. Working with loops and conditionals took some time to master.\n",
            "Week 4: I received a grade of 11. Learning to manipulate lists and dictionaries was tricky.\n",
            "\n"
          ]
        }
      ],
      "source": [
        "import json\n",
        "\n",
        "info = json.loads(hds5210)\n",
        "# Extract personal information\n",
        "name = info['name']\n",
        "email = info['email']\n",
        "year_of_birth = info['year_of_birth']\n",
        "\n",
        "# Create a paragraph of English text\n",
        "paragraph = f\"My name is {name}, and you can reach me at {email}. I was born in {year_of_birth}. Here are my grades and comments for the assignments so far:\\n\"\n",
        "\n",
        "# Loop through the grades and add details to the paragraph\n",
        "for grade_info in info['grades']:\n",
        "    week = grade_info.get('week', 'N/A')\n",
        "    grade = grade_info.get('grade', grade_info.get('quiz', 'N/A'))\n",
        "    comment = grade_info['comment']\n",
        "    paragraph += f\"Week {week}: I received a grade of {grade}. {comment}\\n\"\n",
        "\n",
        "print(paragraph)"
      ]
    },
    {
      "cell_type": "markdown",
      "metadata": {
        "id": "gg4YY2sp-qoq"
      },
      "source": [
        "## 7.3 Reflect\n",
        "\n",
        "Write a paragraph on any reflections you have. Was this hard? Easy?  What parts were most challenging or easiest? What did you like or dislike about the assignment?  Share whatever important thoughts you have abou this assignment."
      ]
    },
    {
      "cell_type": "markdown",
      "metadata": {
        "id": "hJiiJlSM-qor"
      },
      "source": [
        "What I found interesting about this assignment is that it was a combination of elements that I could consider to be challenging, and elements that could be considered rather straightforward. The first part of creating the JSON structure was simple because it was possible to group personal information and grades with ease. However, I found the writing of functions more demanding since it involved addressing issues with JSON data and manipulating it for the right results by paying careful attention to the nested elements issue. The most interesting part in developing the above functions was in solving problems involved as implementing the functions needed understanding of data structures and capabilities of Python language. I also found one aspect a bit challenging, and that was to keep a strict check so that the output was precisely in the format that was expected by the algorithm. In summary, I am glad that I chosen the real data formats such as JSON and Python as strokes, because it helped me to reinforce the use of the tools that are widely applied in the real-life. All in all this assignment is a good practice for the coding activity and the abilities that require logical thinking to be used."
      ]
    },
    {
      "cell_type": "markdown",
      "metadata": {
        "id": "UvztOQhx-qot"
      },
      "source": [
        "---\n",
        "\n",
        "# Example\n",
        "\n",
        "Below is an example of something similar, but this uses information my and my friend's kids instead of grades."
      ]
    },
    {
      "cell_type": "code",
      "execution_count": 19,
      "metadata": {
        "id": "OnpdNWJ1-qou",
        "outputId": "09cf3c87-aa12-4f56-c994-2e6db8b349f8",
        "colab": {
          "base_uri": "https://localhost:8080/"
        }
      },
      "outputs": [
        {
          "output_type": "stream",
          "name": "stdout",
          "text": [
            "Hi, my name is Paul. I've got 3 kids. Their names are Ellie, Ada, Teddy.\n",
            "My friend, Anny has 1 kids. That's fewer than me. Their names are 1\n"
          ]
        }
      ],
      "source": [
        "hds5210 = \"\"\"\n",
        "{\n",
        "    \"me\": {\n",
        "        \"name\": \"Paul\",\n",
        "        \"kids\": [\"Ellie\", \"Ada\", \"Teddy\"]\n",
        "    },\n",
        "    \"friend\": {\n",
        "        \"name\": \"Anny\",\n",
        "        \"kids\": [\"Abby\"]\n",
        "    }\n",
        "}\n",
        "\"\"\"\n",
        "\n",
        "import json\n",
        "\n",
        "info = json.loads(hds5210)\n",
        "\n",
        "me = info[\"me\"][\"name\"]\n",
        "my_kids_count = len(info[\"me\"][\"kids\"])\n",
        "kids_list = \", \".join(info[\"me\"][\"kids\"])\n",
        "friend = info[\"friend\"][\"name\"]\n",
        "friends_kid_count = len(info[\"friend\"][\"kids\"])\n",
        "friend_kids = \", \".join(info[\"friend\"][\"kids\"])\n",
        "compare = \"more\" if friends_kid_count > my_kids_count else \"fewer\"\n",
        "\n",
        "print(f\"Hi, my name is {me}. I've got {my_kids_count} kids. Their names are {kids_list}.\")\n",
        "print(f\"My friend, {friend} has {friends_kid_count} kids. That's {compare} than me. Their names are {friends_kid_count}\")"
      ]
    }
  ],
  "metadata": {
    "kernelspec": {
      "display_name": "Python 3",
      "language": "python",
      "name": "python3"
    },
    "language_info": {
      "codemirror_mode": {
        "name": "ipython",
        "version": 3
      },
      "file_extension": ".py",
      "mimetype": "text/x-python",
      "name": "python",
      "nbconvert_exporter": "python",
      "pygments_lexer": "ipython3",
      "version": "3.9.16"
    },
    "colab": {
      "provenance": [],
      "include_colab_link": true
    }
  },
  "nbformat": 4,
  "nbformat_minor": 0
}