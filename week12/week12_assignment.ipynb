{
  "cells": [
    {
      "cell_type": "markdown",
      "metadata": {
        "id": "view-in-github",
        "colab_type": "text"
      },
      "source": [
        "<a href=\"https://colab.research.google.com/github/sana-hds/HDS-assignmenet/blob/main/week12/week12_assignment.ipynb\" target=\"_parent\"><img src=\"https://colab.research.google.com/assets/colab-badge.svg\" alt=\"Open In Colab\"/></a>"
      ]
    },
    {
      "cell_type": "markdown",
      "metadata": {
        "nbgrader": {
          "grade": false,
          "grade_id": "intro",
          "locked": true,
          "schema_version": 1,
          "solution": false
        },
        "id": "8FVt2WRNvhwP"
      },
      "source": [
        "# Week 12 Assignment\n",
        "\n",
        "# PART 1 - Pivoting Data for Fun!\n",
        "\n",
        "In this exercise, we're going to work with data about condemned buildings in St. Louis.  This data set is in `/data/condemn.txt` in CSV format."
      ]
    },
    {
      "cell_type": "markdown",
      "metadata": {
        "nbgrader": {
          "grade": false,
          "grade_id": "q1-intro",
          "locked": true,
          "schema_version": 1,
          "solution": false
        },
        "id": "o80mExQYvhwQ"
      },
      "source": [
        "## STEP 1: Load and Filter data\n",
        "\n",
        "For this analysis, we want to look only at a relevent range of years and only years that are in teh past.  So, let's first take a look at the data between 1986 and 2014 (inclusive of those dates).\n",
        "\n",
        "At the end of this step, you should have a data frame loaded from the condemnations file and filtered down to only the data between 1986 and 2014.  Put that into a dataframe named `condemnations`\n",
        "\n",
        "**Some helpful notes:**\n",
        "* Use the columns `InspectDate` to filter this date range"
      ]
    },
    {
      "cell_type": "code",
      "execution_count": 85,
      "metadata": {
        "nbgrader": {
          "grade": false,
          "grade_id": "q1-solution",
          "locked": false,
          "schema_version": 1,
          "solution": true
        },
        "id": "mLf8j-rzvhwR",
        "outputId": "0d27347f-4a87-4c4d-d25f-f78ddfb86e65",
        "colab": {
          "base_uri": "https://localhost:8080/"
        }
      },
      "outputs": [
        {
          "output_type": "stream",
          "name": "stderr",
          "text": [
            "<ipython-input-85-bbf5a9bab8ca>:4: DtypeWarning: Columns (2,8,35,36) have mixed types. Specify dtype option on import or set low_memory=False.\n",
            "  condemnations = pd.read_csv('data/condemn.txt')\n"
          ]
        },
        {
          "output_type": "execute_result",
          "data": {
            "text/plain": [
              "(32586, 40)"
            ]
          },
          "metadata": {},
          "execution_count": 85
        }
      ],
      "source": [
        "%matplotlib inline\n",
        "import pandas as pd\n",
        "\n",
        "condemnations = pd.read_csv('data/condemn.txt')\n",
        "condemnations.shape"
      ]
    },
    {
      "cell_type": "code",
      "execution_count": 86,
      "metadata": {
        "id": "B737VnGWvhwR"
      },
      "outputs": [],
      "source": [
        "# Convert InspectDate to datetime format\n",
        "condemnations['InspectDate'] = pd.to_datetime(condemnations['InspectDate'], errors='coerce')"
      ]
    },
    {
      "cell_type": "code",
      "execution_count": 87,
      "metadata": {
        "id": "mBx7ZywEvhwS",
        "outputId": "aa59cfe1-b3ad-464b-881e-b64b9806c67c",
        "colab": {
          "base_uri": "https://localhost:8080/"
        }
      },
      "outputs": [
        {
          "output_type": "stream",
          "name": "stdout",
          "text": [
            "(30232, 40)\n"
          ]
        }
      ],
      "source": [
        "# Filter the data for the years 1986 to 2014\n",
        "condemnations = condemnations[(condemnations['InspectDate'].dt.year >= 1986) & (condemnations['InspectDate'].dt.year <= 2014)]\n",
        "\n",
        "# Display the shape of the filtered dataframe\n",
        "print(condemnations.shape)"
      ]
    },
    {
      "cell_type": "code",
      "execution_count": 88,
      "metadata": {
        "nbgrader": {
          "grade": true,
          "grade_id": "q1-tests",
          "locked": true,
          "points": 6,
          "schema_version": 1,
          "solution": false
        },
        "id": "pTP8psv2vhwS"
      },
      "outputs": [],
      "source": [
        "assert(condemnations.shape == (30232, 40))\n",
        "assert(len(condemnations[condemnations['InspectDate'] < '1986'])==0)\n",
        "assert(len(condemnations[condemnations['InspectDate'] >= '2015'])==0)"
      ]
    },
    {
      "cell_type": "markdown",
      "metadata": {
        "nbgrader": {
          "grade": false,
          "grade_id": "q2-intro",
          "locked": true,
          "schema_version": 1,
          "solution": false
        },
        "id": "GJQYHjNAvhwS"
      },
      "source": [
        "## STEP 2: Pivot and Summarize\n",
        "\n",
        "In this step we want to pivot our data so that we have one row per year, a column for each value that appears in the `Status` column, and a count of how many condemnations occurred of each type in each year.  Put your summary pivot table into a variable called `by_year`.\n",
        "\n",
        "**Some helpful notes:**\n",
        "* For some reason, Pandas is just kind of stubborn about count being the aggregate function.  You may need to tell it to `np.ma.count` specifically.  I've imported Numpy as np for you."
      ]
    },
    {
      "cell_type": "code",
      "execution_count": 89,
      "metadata": {
        "id": "u7tU-pyevhwS",
        "outputId": "3f58d29c-dd14-4c73-d330-0682fa43adc9",
        "colab": {
          "base_uri": "https://localhost:8080/"
        }
      },
      "outputs": [
        {
          "output_type": "stream",
          "name": "stdout",
          "text": [
            "Status       B      L     R      W\n",
            "Year                              \n",
            "1986      22.0   12.0  19.0  112.0\n",
            "1987      91.0   20.0   8.0  361.0\n",
            "1988     215.0   16.0  15.0  297.0\n",
            "1989     277.0   15.0  11.0  432.0\n",
            "1990     119.0   29.0   8.0  322.0\n",
            "1991     139.0   18.0   4.0  351.0\n",
            "1992     204.0   30.0   4.0  258.0\n",
            "1993     185.0   47.0   2.0  193.0\n",
            "1994     208.0   94.0   5.0  293.0\n",
            "1995     176.0  127.0   NaN  268.0\n",
            "1996     214.0  171.0   NaN  794.0\n",
            "1997     281.0  328.0   NaN  878.0\n",
            "1998     254.0  343.0   NaN  599.0\n",
            "1999     272.0  283.0   NaN  826.0\n",
            "2000     320.0  268.0   NaN  529.0\n",
            "2001     381.0  262.0   NaN  296.0\n",
            "2002     383.0  227.0   NaN  317.0\n",
            "2003     361.0  201.0   NaN  282.0\n",
            "2004     354.0  204.0   NaN  381.0\n",
            "2005     410.0  237.0   NaN  345.0\n",
            "2006     479.0  233.0  20.0  370.0\n",
            "2007     613.0  262.0   NaN  341.0\n",
            "2008     700.0  254.0   NaN  334.0\n",
            "2009     785.0  223.0   NaN  200.0\n",
            "2010    1161.0  193.0   NaN  154.0\n",
            "2011    1028.0  275.0   NaN  107.0\n",
            "2012     738.0  257.0   1.0   28.0\n",
            "2013     185.0  209.0   1.0    2.0\n",
            "2014      17.0  128.0   NaN    NaN\n"
          ]
        }
      ],
      "source": [
        "import pandas as pd\n",
        "import numpy as np\n",
        "\n",
        "# Extract the year from the InspectDate column\n",
        "condemnations['Year'] = condemnations['InspectDate'].dt.year\n",
        "\n",
        "# Create the pivot table\n",
        "by_year = condemnations.pivot_table(\n",
        "    index='Year',\n",
        "    columns='Status',\n",
        "    values='InspectDate',\n",
        "    aggfunc='size'\n",
        ")\n",
        "\n",
        "print(by_year)"
      ]
    },
    {
      "cell_type": "code",
      "execution_count": 90,
      "metadata": {
        "nbgrader": {
          "grade": true,
          "grade_id": "q2-tests",
          "locked": true,
          "points": 6,
          "schema_version": 1,
          "solution": false
        },
        "id": "IP8FRJQEvhwS"
      },
      "outputs": [],
      "source": [
        "assert(by_year.shape == (29, 4))\n",
        "assert(list(by_year.columns) == ['B', 'L', 'R', 'W'])\n",
        "assert(list(by_year.sum()) == [10572, 4966, 98, 9670])"
      ]
    },
    {
      "cell_type": "markdown",
      "metadata": {
        "nbgrader": {
          "grade": false,
          "grade_id": "q3-intro",
          "locked": true,
          "schema_version": 1,
          "solution": false
        },
        "id": "ReBCcedovhwT"
      },
      "source": [
        "## STEP 3: Plot and see what you see\n",
        "\n",
        "Use Pandas built-in plotting capabilities to visualize this information in way that you think makes sense.  It might be that plotting a simple multi-series line chart would give you some insights.  Show your plot in the cell below, then use the text cell below that to write a few sentences about what you see.\n"
      ]
    },
    {
      "cell_type": "code",
      "execution_count": 91,
      "metadata": {
        "nbgrader": {
          "grade": true,
          "grade_id": "q3-manual",
          "locked": false,
          "points": 5,
          "schema_version": 1,
          "solution": true
        },
        "id": "0fxHRY9zvhwT",
        "outputId": "41dcfc45-6bdf-4dd7-abfc-876478c0db3b",
        "colab": {
          "base_uri": "https://localhost:8080/",
          "height": 466
        }
      },
      "outputs": [
        {
          "output_type": "execute_result",
          "data": {
            "text/plain": [
              "<Axes: xlabel='Year'>"
            ]
          },
          "metadata": {},
          "execution_count": 91
        },
        {
          "output_type": "display_data",
          "data": {
            "text/plain": [
              "<Figure size 640x480 with 1 Axes>"
            ],
            "image/png": "[encoded data removed]"
          },
          "metadata": {}
        }
      ],
      "source": [
        "%matplotlib inline\n",
        "by_year.plot()"
      ]
    },
    {
      "cell_type": "markdown",
      "metadata": {
        "id": "xpN4EoZRvhwT"
      },
      "source": [
        "Observations:\n",
        "\n",
        "---\n",
        "\n",
        "‘B’ Status: Shows significant fluctuations with a peak around 2010.\n",
        "\n",
        "‘L’ Status: Generally trends downward over the years.\n",
        "\n",
        "‘R’ Status: Remains relatively flat until around 2005, then increases sharply.\n",
        "\n",
        "‘W’ Status: Shows an overall increasing trend with some fluctuations.\n",
        "\n",
        "These trends can help identify periods of significant changes in condemnation statuses, which might warrant further investigation into underlying causes or implications.---"
      ]
    },
    {
      "cell_type": "markdown",
      "metadata": {
        "id": "lgnWmLX0vhwT"
      },
      "source": [
        "# PART 2 - Video Conference Usage\n",
        "\n",
        "In this next part of the assignment, we'll be looking at how video conference usage changed during the beginning of COVID-19.  This real data.  Please don't judge anyone based on the information here.  ;)  The data is in the `/data/meetings.csv` file.\n",
        "\n",
        "For the assignment, I want you to compare (by person) the number of meetings hosted by each user for the last two weeks of February and the last two weeks of March.  This might be a little complicated to think through HOW to do that, so the steps below are one approach.\n",
        "\n",
        "1. Create a new column called startDate that contains just the day part of the startTime column in the data.  You can do that using datetime functions if you want, but you'll notice that the date in this file is a string formatted YYYY-MM-DD-HH:mm:ss, so it's probably easier just to pull out the first 10 characters of the string instead.  `meetings['startTime'].str[0:10]`\n",
        "2. Create another new column.  This one should contain a label like \"BEFORE\" for the week 2/17 - 2/28 and \"DURING\" for the week of 3/16 - 3/27.  A hand tip on this is that you can set values for some rows in a data frame using `meetings.loc[row_filter,'Column Name'] = 'Value'` if you've created a `row_filter` as we discussed in prior weeks.\n",
        "3. From here, using `pivot_table()` is one good way to summarize the information.\n",
        "\n",
        "**FINAL RESULT**\n",
        "\n",
        "For a final result, I'd like you to produce a data frame named **summary** that contains:\n",
        "* One ROW for each userName.  The userName can either be the row index or a column in the data frame.\n",
        "* One COLUMN for the \"BEFORE\" week and one COLUMN for the \"DURING\" week.  Name those columns 'Before' and 'During'.\n",
        "* One more calculated column that shows the percent increase from BEFORE to DURING.  Name that column 'pctChange'.\n"
      ]
    },
    {
      "cell_type": "code",
      "execution_count": 92,
      "metadata": {
        "id": "kV101w7EvhwT"
      },
      "outputs": [],
      "source": [
        "import pandas as pd\n",
        "\n",
        "meetings = pd.read_csv('data/meetings.csv')"
      ]
    },
    {
      "cell_type": "code",
      "execution_count": 93,
      "metadata": {
        "id": "WhhdbXwJvhwT"
      },
      "outputs": [],
      "source": [
        "meetings['startDate'] = meetings['startTime'].str[0:10]"
      ]
    },
    {
      "cell_type": "code",
      "source": [
        "meetings['Period'] = 'OTHER'\n",
        "meetings.loc[(meetings['startDate'] >= '2020-02-17') & (meetings['startDate'] <= '2020-02-28'), 'Period'] = 'BEFORE'\n",
        "meetings.loc[(meetings['startDate'] >= '2020-03-16') & (meetings['startDate'] <= '2020-03-27'), 'Period'] = 'DURING'"
      ],
      "metadata": {
        "id": "4V7TFUhJyQSR"
      },
      "execution_count": 94,
      "outputs": []
    },
    {
      "cell_type": "code",
      "source": [
        "filtered_meetings = meetings[meetings['Period'].isin(['BEFORE', 'DURING'])]"
      ],
      "metadata": {
        "id": "2jxLehNFySW2"
      },
      "execution_count": 95,
      "outputs": []
    },
    {
      "cell_type": "code",
      "source": [
        "\n",
        "summary = filtered_meetings.pivot_table(index='userName', columns='Period', values='meetingId', aggfunc='count', fill_value=0)\n",
        "summary.columns = ['Before', 'During']"
      ],
      "metadata": {
        "id": "iDwNNEiIyYsH"
      },
      "execution_count": 96,
      "outputs": []
    },
    {
      "cell_type": "code",
      "source": [
        "summary['pctChange'] = ((summary['During'] - summary['Before']) / summary['Before'])\n",
        "summary['pctChange'] = summary['pctChange'].fillna(0)  # Handle division by zero"
      ],
      "metadata": {
        "id": "pLRqrcZoyhDZ"
      },
      "execution_count": 97,
      "outputs": []
    },
    {
      "cell_type": "code",
      "source": [
        "summary.reset_index(inplace=True)\n",
        "print(summary)"
      ],
      "metadata": {
        "id": "MmdnV13fykxa",
        "outputId": "5bcb63bd-53dd-4267-e5a5-c311f94ada30",
        "colab": {
          "base_uri": "https://localhost:8080/"
        }
      },
      "execution_count": 98,
      "outputs": [
        {
          "output_type": "stream",
          "name": "stdout",
          "text": [
            "                          userName  Before  During  pctChange\n",
            "0                       Drew.Marco      12      19   0.583333\n",
            "1                      amit.bhagat      17      30   0.764706\n",
            "2   andrea.bryant.amitechsolutions       5       3  -0.400000\n",
            "3                     angie.warren       5       9   0.800000\n",
            "4    chris.rogers.amitechsolutions       4       3  -0.250000\n",
            "5                      eric.keeney      15      27   0.800000\n",
            "6                      eric.rodman       4      12   2.000000\n",
            "7   jeff.hatfield.amitechsolutions      13      26   1.000000\n",
            "8         jennifer.patton.amitechs       5       7   0.400000\n",
            "9                   jessica.sikora       3       7   1.333333\n",
            "10                     matt.allsup       5       0  -1.000000\n",
            "11     matt.brown.amitechsolutions       1       2   1.000000\n",
            "12                   melissa.menne      10       9  -0.100000\n",
            "13                   michael.demos       5      11   1.200000\n",
            "14                       paul.boal      15      35   1.333333\n",
            "15     paul.smith.amitechsolutions      23      10  -0.565217\n",
            "16                   pete.cornwell       1       9   8.000000\n",
            "17              raghavender.tuniki       6       2  -0.666667\n",
            "18                     sandip.shaw       9       2  -0.777778\n",
            "19                 santhosh.kanala       2       6   2.000000\n",
            "20   shawn.reilly.amitechsolutions       7      10   0.428571\n",
            "21                  tejus.maduskar      12      39   2.250000\n"
          ]
        }
      ]
    },
    {
      "cell_type": "code",
      "execution_count": 99,
      "metadata": {
        "id": "969a4Y0DvhwU"
      },
      "outputs": [],
      "source": [
        "assert(len(summary) == 22)"
      ]
    },
    {
      "cell_type": "code",
      "execution_count": 100,
      "metadata": {
        "id": "l_XA66oxvhwU"
      },
      "outputs": [],
      "source": [
        "assert(summary['pctChange'].mean().round(2) == 0.92)"
      ]
    },
    {
      "cell_type": "markdown",
      "metadata": {
        "id": "5aU5ZFUKvhwU"
      },
      "source": [
        "\n",
        "\n",
        "---\n",
        "\n",
        "\n",
        "\n",
        "## Submitting Your Work\n",
        "\n",
        "Submit as usual\n"
      ]
    }
  ],
  "metadata": {
    "celltoolbar": "Create Assignment",
    "kernelspec": {
      "display_name": "Python 3",
      "language": "python",
      "name": "python3"
    },
    "language_info": {
      "codemirror_mode": {
        "name": "ipython",
        "version": 3
      },
      "file_extension": ".py",
      "mimetype": "text/x-python",
      "name": "python",
      "nbconvert_exporter": "python",
      "pygments_lexer": "ipython3",
      "version": "3.6.7"
    },
    "colab": {
      "provenance": [],
      "include_colab_link": true
    }
  },
  "nbformat": 4,
  "nbformat_minor": 0
}